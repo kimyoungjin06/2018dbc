{
 "cells": [
  {
   "cell_type": "code",
   "execution_count": 1,
   "metadata": {},
   "outputs": [
    {
     "data": {
      "text/plain": [
       "array([0, 1, 2, 3, 4, 5, 6, 7, 8, 9])"
      ]
     },
     "execution_count": 1,
     "metadata": {},
     "output_type": "execute_result"
    }
   ],
   "source": [
    "import numpy as np\n",
    "n = np.arange(10)\n",
    "n"
   ]
  },
  {
   "cell_type": "code",
   "execution_count": 1,
   "metadata": {},
   "outputs": [
    {
     "name": "stdout",
     "output_type": "stream",
     "text": [
      "--2018-07-01 01:41:22--  https://www.gutenberg.org/files/11/11-0.txt\n",
      "Resolving www.gutenberg.org (www.gutenberg.org)... 152.19.134.47, 2610:28:3090:3000:0:bad:cafe:47\n",
      "Connecting to www.gutenberg.org (www.gutenberg.org)|152.19.134.47|:443... connected.\n",
      "HTTP request sent, awaiting response... 200 OK\n",
      "Length: 173595 (170K) [text/plain]\n",
      "Saving to: ‘11-0.txt’\n",
      "\n",
      "11-0.txt            100%[===================>] 169.53K   189KB/s    in 0.9s    \n",
      "\n",
      "2018-07-01 01:41:25 (189 KB/s) - ‘11-0.txt’ saved [173595/173595]\n",
      "\n"
     ]
    }
   ],
   "source": [
    "!wget https://www.gutenberg.org/files/11/11-0.txt"
   ]
  },
  {
   "cell_type": "code",
   "execution_count": 5,
   "metadata": {},
   "outputs": [
    {
     "name": "stdout",
     "output_type": "stream",
     "text": [
      "﻿Project Gutenberg’s Alice’s Adventures in Wonderland, by Lewis Carroll\r",
      "\r\n",
      "\r",
      "\r\n",
      "This eBook is for the use of anyone anywhere at no cost and with\r",
      "\r\n",
      "almost no restrictions whatsoever.  You may copy it, give it away or\r",
      "\r\n",
      "re-use it under the terms of the Project Gutenberg License included\r",
      "\r\n",
      "with this eBook or online at www.gutenberg.org\r",
      "\r\n",
      "\r",
      "\r\n",
      "\r",
      "\r\n",
      "Title: Alice’s Adventures in Wonderland\r",
      "\r\n",
      "\r",
      "\r\n"
     ]
    }
   ],
   "source": [
    "!head 11-0.txt"
   ]
  },
  {
   "cell_type": "code",
   "execution_count": 9,
   "metadata": {},
   "outputs": [
    {
     "data": {
      "text/plain": [
       "3736"
      ]
     },
     "execution_count": 9,
     "metadata": {},
     "output_type": "execute_result"
    }
   ],
   "source": [
    "f = open(\"11-0.txt\",\"r\") # r;READ, w; WRITE, a; ADD\n",
    "text = []\n",
    "for line in f:\n",
    "    text.append(line)\n",
    "f.close()\n",
    "\n",
    "len(text) # 글이 총 몇 줄인지 확인"
   ]
  },
  {
   "cell_type": "code",
   "execution_count": 21,
   "metadata": {},
   "outputs": [],
   "source": [
    "text = \" \".join(text)"
   ]
  },
  {
   "cell_type": "code",
   "execution_count": 25,
   "metadata": {},
   "outputs": [],
   "source": [
    "words = text.split(\" \")"
   ]
  },
  {
   "cell_type": "code",
   "execution_count": 26,
   "metadata": {},
   "outputs": [
    {
     "data": {
      "text/plain": [
       "['\\ufeffProject',\n",
       " 'Gutenberg’s',\n",
       " 'Alice’s',\n",
       " 'Adventures',\n",
       " 'in',\n",
       " 'Wonderland,',\n",
       " 'by',\n",
       " 'Lewis',\n",
       " 'Carroll\\n',\n",
       " '\\n']"
      ]
     },
     "execution_count": 26,
     "metadata": {},
     "output_type": "execute_result"
    }
   ],
   "source": [
    "words[:10]"
   ]
  },
  {
   "cell_type": "code",
   "execution_count": 28,
   "metadata": {},
   "outputs": [
    {
     "data": {
      "text/plain": [
       "6761"
      ]
     },
     "execution_count": 28,
     "metadata": {},
     "output_type": "execute_result"
    }
   ],
   "source": [
    "len(set(words))"
   ]
  },
  {
   "cell_type": "code",
   "execution_count": 29,
   "metadata": {},
   "outputs": [],
   "source": [
    "from collections import Counter"
   ]
  },
  {
   "cell_type": "code",
   "execution_count": 31,
   "metadata": {},
   "outputs": [],
   "source": [
    "word_cnt = Counter(words)"
   ]
  },
  {
   "cell_type": "code",
   "execution_count": 42,
   "metadata": {},
   "outputs": [
    {
     "name": "stdout",
     "output_type": "stream",
     "text": [
      "[(10, 15), (9, 16)] (10, 9) (15, 16)\n"
     ]
    }
   ],
   "source": [
    "x = list(zip([10, 9], [15, 16]))\n",
    "x\n",
    "\n",
    "a, b = zip(*x)\n",
    "print(x,a,b)"
   ]
  },
  {
   "cell_type": "code",
   "execution_count": 43,
   "metadata": {},
   "outputs": [],
   "source": [
    "word_set, word_n = zip(*word_cnt.most_common(len(word_cnt)))"
   ]
  },
  {
   "cell_type": "code",
   "execution_count": 46,
   "metadata": {},
   "outputs": [],
   "source": [
    "from matplotlib import pyplot as plt"
   ]
  },
  {
   "cell_type": "code",
   "execution_count": 55,
   "metadata": {},
   "outputs": [
    {
     "name": "stdout",
     "output_type": "stream",
     "text": [
      "0.0\n",
      "0.301029995664\n",
      "0.47712125472\n",
      "0.602059991328\n",
      "0.698970004336\n",
      "0.778151250384\n",
      "0.845098040014\n",
      "0.903089986992\n",
      "0.954242509439\n"
     ]
    }
   ],
   "source": [
    "import numpy as np\n",
    "for x in range(1,10):\n",
    "    print(np.log10(x))"
   ]
  },
  {
   "cell_type": "code",
   "execution_count": null,
   "metadata": {},
   "outputs": [],
   "source": []
  },
  {
   "cell_type": "code",
   "execution_count": null,
   "metadata": {},
   "outputs": [],
   "source": []
  },
  {
   "cell_type": "code",
   "execution_count": 51,
   "metadata": {},
   "outputs": [
    {
     "data": {
      "text/plain": [
       "[<matplotlib.lines.Line2D at 0x7f9305c92208>]"
      ]
     },
     "execution_count": 51,
     "metadata": {},
     "output_type": "execute_result"
    },
    {
     "data": {
      "image/png": "[encoded data removed]",
      "text/plain": [
       "<matplotlib.figure.Figure at 0x7f9305cf9828>"
      ]
     },
     "metadata": {},
     "output_type": "display_data"
    }
   ],
   "source": [
    "plt.figure(figsize=(6,4))\n",
    "plt.title(\"word count in novel\", \n",
    "          fontsize=20\n",
    "         )\n",
    "plt.xlabel(\"rank\", \n",
    "#            fontsize=20\n",
    "          )\n",
    "plt.ylabel(\"counts\", \n",
    "#            fontsize=20\n",
    "          )\n",
    "\n",
    "plt.xscale(\"log\")\n",
    "plt.yscale(\"log\")\n",
    "\n",
    "plt.plot(word_n)"
   ]
  },
  {
   "cell_type": "code",
   "execution_count": 52,
   "metadata": {},
   "outputs": [
    {
     "data": {
      "text/plain": [
       "[<matplotlib.lines.Line2D at 0x7f9305f079b0>]"
      ]
     },
     "execution_count": 52,
     "metadata": {},
     "output_type": "execute_result"
    },
    {
     "data": {
      "image/png": "[encoded data removed]",
      "text/plain": [
       "<matplotlib.figure.Figure at 0x7f9305b995c0>"
      ]
     },
     "metadata": {},
     "output_type": "display_data"
    }
   ],
   "source": [
    "plt.figure(figsize=(6,4))\n",
    "plt.title(\"word count in novel\", \n",
    "          fontsize=20\n",
    "         )\n",
    "plt.xlabel(\"rank\", \n",
    "#            fontsize=20\n",
    "          )\n",
    "plt.ylabel(\"counts\", \n",
    "#            fontsize=20\n",
    "          )\n",
    "\n",
    "plt.plot(word_n)"
   ]
  },
  {
   "cell_type": "code",
   "execution_count": null,
   "metadata": {},
   "outputs": [],
   "source": [
    "from matplotlib import pyplot as plt\n",
    "\n",
    "x,y = zip(*word_count)\n",
    "\n",
    "label = x\n",
    "x = np.arange(len(y))+1\n",
    "\n",
    "alp = 0.8\n",
    "plt.figure(figsize=(6,4))\n",
    "plt.title(\"word count in novel\", \n",
    "          fontsize=20\n",
    "         )\n",
    "plt.xlabel(\"rank\", \n",
    "#            fontsize=20\n",
    "          )\n",
    "plt.ylabel(\"counts\", \n",
    "#            fontsize=20\n",
    "          )\n",
    "\n",
    "plt.plot(x, y, 'C0-o', alpha=alp, label='alice')\n",
    "plt.plot(x,1000.*x**(-1.),'C1--',label='$\\gamma\\simeq-1$')\n",
    "plt.xscale(\"log\")\n",
    "plt.yscale(\"log\")\n",
    "plt.legend()\n",
    "plt.savefig('./Fig_Zipf_law.pdf', format='pdf', bbox_inches='tight')\n",
    "plt.show()"
   ]
  },
  {
   "cell_type": "code",
   "execution_count": 36,
   "metadata": {},
   "outputs": [
    {
     "name": "stdout",
     "output_type": "stream",
     "text": [
      "1\n",
      "2\n",
      "1.0\n",
      "2.0\n",
      "3.0\n",
      "[1, 2.0]\n",
      "We study Python!\n",
      "['W', 'e', ' ', 's', 't', 'u', 'd', 'y', ' ', 'P', 'y', 't', 'h', 'o', 'n', '!']\n",
      "['W', 'e', ' ', 's', 't', 'u', 'd', 'y', ' ', 'P', 'y', 't', 'h', 'o', 'n', '!']\n",
      "We study Python!\n"
     ]
    }
   ],
   "source": [
    "x = 1\n",
    "y = 2.0\n",
    "print(x)\n",
    "print(int(y))\n",
    "print(float(x))\n",
    "print(str(y))\n",
    "print(x+y)\n",
    "print([x,y])"
   ]
  },
  {
   "cell_type": "code",
   "execution_count": 137,
   "metadata": {},
   "outputs": [
    {
     "name": "stdout",
     "output_type": "stream",
     "text": [
      "We study Python!\n",
      "\n",
      "['W', 'e', ' ', 's', 't', 'u', 'd', 'y', ' ', 'P', 'y', 't', 'h', 'o', 'n', '!', '\\n']\n",
      "['W', 'e', ' ', 's', 't', 'u', 'd', 'y', ' ', 'P', 'y', 't', 'h', 'o', 'n', '!', '\\n']\n",
      "W--e-- --s--t--u--d--y-- --P--y--t--h--o--n--!--\n",
      "\n"
     ]
    }
   ],
   "source": [
    "z = 'We study Python!\\n'\n",
    "print(z)\n",
    "print(list(z))\n",
    "print(str(list(z)))\n",
    "print(\"--\".join(list(z)))"
   ]
  },
  {
   "cell_type": "code",
   "execution_count": 123,
   "metadata": {},
   "outputs": [
    {
     "name": "stdout",
     "output_type": "stream",
     "text": [
      "t\n",
      "We study Python!\n",
      "We s\n",
      " stu\n",
      "!\n",
      "thon\n",
      "['We stud', ' P', 'thon!']\n"
     ]
    }
   ],
   "source": [
    "# indexing and slicing\n",
    "print(z[4])\n",
    "print(z[:])\n",
    "print(z[:4])\n",
    "print(z[2:6])\n",
    "print(z[-1])\n",
    "print(z[-5:-1])\n",
    "print(z.split(\"y\"))"
   ]
  },
  {
   "cell_type": "code",
   "execution_count": 134,
   "metadata": {
    "scrolled": true
   },
   "outputs": [
    {
     "name": "stdout",
     "output_type": "stream",
     "text": [
      "[1, 2.0, 1, 2.0]\n"
     ]
    }
   ],
   "source": [
    "# list\n",
    "a = [x,y]\n",
    "b = []\n",
    "b.append(x)\n",
    "b.append(y)\n",
    "b.append(y)\n",
    "b.append(y)\n",
    "# print(a)\n",
    "# print(b)\n",
    "# print(z+z)\n",
    "print(a*2)\n"
   ]
  },
  {
   "cell_type": "code",
   "execution_count": 135,
   "metadata": {},
   "outputs": [
    {
     "name": "stdout",
     "output_type": "stream",
     "text": [
      "[ 1.  2.]\n",
      "[1, 2.0, 1, 2.0]\n",
      "[ 2.  4.]\n"
     ]
    }
   ],
   "source": [
    "c = np.array(a)\n",
    "print(c)\n",
    "print(a*2)\n",
    "print(c*2)\n",
    "# print(np.dot(c,c))\n",
    "# print(c*c)\n",
    "# print(np.cross(c,c))"
   ]
  },
  {
   "cell_type": "code",
   "execution_count": 65,
   "metadata": {},
   "outputs": [],
   "source": [
    "f = open(\"ex.txt\",\"w\")\n",
    "f.write(z)\n",
    "f.close()"
   ]
  },
  {
   "cell_type": "code",
   "execution_count": 67,
   "metadata": {},
   "outputs": [
    {
     "name": "stdout",
     "output_type": "stream",
     "text": [
      "We study Python!\n"
     ]
    }
   ],
   "source": [
    "f = open(\"ex.txt\",\"r\")\n",
    "for line in f:\n",
    "    print(line)\n",
    "f.close()"
   ]
  },
  {
   "cell_type": "markdown",
   "metadata": {},
   "source": [
    "# Practice#2 Text data analysis"
   ]
  },
  {
   "cell_type": "markdown",
   "metadata": {},
   "source": [
    "1. Data cleaning : Delete Unicode, Replace '\\n', Delete meta character using re (regular expression)\n",
    "2. Words counting : using Counter package\n",
    "3. Graph plotting : using matplotlib package"
   ]
  },
  {
   "cell_type": "code",
   "execution_count": 136,
   "metadata": {},
   "outputs": [
    {
     "name": "stdout",
     "output_type": "stream",
     "text": [
      "1.primeNumber_sum.ipynb  2.list_and_character.ipynb  alice.txt\tex.txt\r\n"
     ]
    }
   ],
   "source": [
    "!ls"
   ]
  },
  {
   "cell_type": "code",
   "execution_count": 140,
   "metadata": {},
   "outputs": [],
   "source": [
    "f = open(\"alice.txt\",\"r\")\n",
    "text = []\n",
    "for line in f:\n",
    "    text.append(line)\n",
    "f.close()\n",
    "\n",
    "len(text) # 글이 총 몇 줄인지 확인"
   ]
  },
  {
   "cell_type": "code",
   "execution_count": 169,
   "metadata": {},
   "outputs": [
    {
     "data": {
      "text/plain": [
       "'\\ufeffProject Gutenberg’s Alice’s Adventures in Wonderland, by Lewis Carroll\\n'"
      ]
     },
     "execution_count": 169,
     "metadata": {},
     "output_type": "execute_result"
    }
   ],
   "source": [
    "text[0] # 확인을 해 보니 알파벳 사이에 유니코드가 섞여있다. 제거 요망"
   ]
  },
  {
   "cell_type": "code",
   "execution_count": 170,
   "metadata": {},
   "outputs": [
    {
     "data": {
      "text/plain": [
       "167552"
      ]
     },
     "execution_count": 170,
     "metadata": {},
     "output_type": "execute_result"
    }
   ],
   "source": [
    "full_text = \" \".join(text)\n",
    "len(full_text) # 정제 전의 텍스트 총 길이를 확인"
   ]
  },
  {
   "cell_type": "code",
   "execution_count": 217,
   "metadata": {},
   "outputs": [
    {
     "data": {
      "text/plain": [
       "164531"
      ]
     },
     "execution_count": 217,
     "metadata": {},
     "output_type": "execute_result"
    }
   ],
   "source": [
    "del_unicode = full_text.encode('ascii','ignore').decode()\n",
    "len(del_unicode) # 유니코드를 삭제한 후 길이 확인"
   ]
  },
  {
   "cell_type": "code",
   "execution_count": 218,
   "metadata": {},
   "outputs": [
    {
     "name": "stdout",
     "output_type": "stream",
     "text": [
      "5\n"
     ]
    },
    {
     "data": {
      "text/plain": [
       "156610"
      ]
     },
     "execution_count": 218,
     "metadata": {},
     "output_type": "execute_result"
    }
   ],
   "source": [
    "replacement = del_unicode.replace('\\n',' ')\n",
    "\n",
    "import re\n",
    "replacement = re.sub('[-=.#/?:$]',' ',replacement)\n",
    "\n",
    "temp = len(replacement)\n",
    "replacement = replacement.replace('  ', ' ')\n",
    "i=0\n",
    "while temp != len(replacement):\n",
    "    temp = len(replacement)\n",
    "    replacement = replacement.replace('  ', ' ')\n",
    "    i= i+1\n",
    "print(i)\n",
    "len(replacement)"
   ]
  },
  {
   "cell_type": "code",
   "execution_count": 220,
   "metadata": {},
   "outputs": [
    {
     "name": "stdout",
     "output_type": "stream",
     "text": [
      "29962\n"
     ]
    },
    {
     "data": {
      "text/plain": [
       "4720"
      ]
     },
     "execution_count": 220,
     "metadata": {},
     "output_type": "execute_result"
    }
   ],
   "source": [
    "words = replacement.split(\" \")\n",
    "print(len(words))\n",
    "from collections import Counter\n",
    "\n",
    "word_count = Counter(words).most_common(10000)\n",
    "len(word_count)"
   ]
  },
  {
   "cell_type": "code",
   "execution_count": 235,
   "metadata": {},
   "outputs": [
    {
     "data": {
      "image/png": "[encoded data removed]",
      "text/plain": [
       "<matplotlib.figure.Figure at 0x7f2b5c72fb70>"
      ]
     },
     "metadata": {},
     "output_type": "display_data"
    }
   ],
   "source": [
    "from matplotlib import pyplot as plt\n",
    "\n",
    "x,y = zip(*word_count)\n",
    "\n",
    "label = x\n",
    "x = np.arange(len(y))+1\n",
    "\n",
    "alp = 0.8\n",
    "plt.figure(figsize=(6,4))\n",
    "plt.title(\"word count in novel\", \n",
    "          fontsize=20\n",
    "         )\n",
    "plt.xlabel(\"rank\", \n",
    "#            fontsize=20\n",
    "          )\n",
    "plt.ylabel(\"counts\", \n",
    "#            fontsize=20\n",
    "          )\n",
    "\n",
    "plt.plot(x, y, 'C0-o', alpha=alp, label='alice')\n",
    "plt.plot(x,1000.*x**(-1.),'C1--',label='$\\gamma\\simeq-1$')\n",
    "plt.xscale(\"log\")\n",
    "plt.yscale(\"log\")\n",
    "plt.legend()\n",
    "plt.savefig('./Fig_Zipf_law.pdf', format='pdf', bbox_inches='tight')\n",
    "plt.show()"
   ]
  },
  {
   "cell_type": "code",
   "execution_count": 231,
   "metadata": {},
   "outputs": [
    {
     "data": {
      "text/plain": [
       "array([  1.00000000e+00,   5.00000000e-01,   3.33333333e-01, ...,\n",
       "         2.11954218e-04,   2.11909303e-04,   2.11864407e-04])"
      ]
     },
     "execution_count": 231,
     "metadata": {},
     "output_type": "execute_result"
    }
   ],
   "source": [
    "(x*1.)**-1"
   ]
  },
  {
   "cell_type": "code",
   "execution_count": null,
   "metadata": {},
   "outputs": [],
   "source": []
  }
 ],
 "metadata": {
  "kernelspec": {
   "display_name": "Python 3",
   "language": "python",
   "name": "python3"
  },
  "language_info": {
   "codemirror_mode": {
    "name": "ipython",
    "version": 3
   },
   "file_extension": ".py",
   "mimetype": "text/x-python",
   "name": "python",
   "nbconvert_exporter": "python",
   "pygments_lexer": "ipython3",
   "version": "3.6.3"
  }
 },
 "nbformat": 4,
 "nbformat_minor": 2
}
